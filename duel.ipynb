{
 "cells": [
  {
   "cell_type": "markdown",
   "metadata": {},
   "source": [
    "# Duel of sorcerers\n",
    "You are witnessing an epic battle between two powerful sorcerers: Gandalf and Saruman. Each sorcerer has 10 spells of variable power in their mind and they are going to throw them one after the other. The winner of the duel will be the one who wins more of those clashes between spells. Spells are represented as a list of 10 integers whose value equals the power of the spell.\n",
    "```\n",
    "gandalf = [10, 11, 13, 30, 22, 11, 10, 33, 22, 22]\n",
    "saruman = [23, 66, 12, 43, 12, 10, 44, 23, 12, 17]\n",
    "```\n",
    "For example:\n",
    "1. The first clash is won by Saruman: 10 against 23, wins 23\n",
    "2. The second clash wins Saruman: 11 against 66, wins 66\n",
    "3. etc.\n",
    "\n",
    "\n",
    "You will create two variables, one for each sorcerer, where the sum of clashes won will be stored. Depending on which variable is greater at the end of the duel, you will show one of the following three results on the screen:\n",
    "* Gandalf wins\n",
    "* Saruman wins\n",
    "* Tie\n",
    "\n",
    "<img src=\"images/content_lightning_bolt_big.jpg\" width=\"400\">"
   ]
  },
  {
   "cell_type": "markdown",
   "metadata": {},
   "source": [
    "## Solution"
   ]
  },
  {
   "cell_type": "code",
   "execution_count": 1,
   "metadata": {},
   "outputs": [],
   "source": [
    "# Assign spell power lists to variables\n",
    "\n",
    "gandalf = [10, 11, 13, 30, 22, 11, 10, 33, 22, 22]\n",
    "saruman = [23, 66, 12, 43, 12, 10, 44, 23, 12, 17]"
   ]
  },
  {
   "cell_type": "code",
   "execution_count": 18,
   "metadata": {},
   "outputs": [],
   "source": [
    "# Assign 0 to each variable that stores the victories\n",
    "clash_won_gandalf = 0\n",
    "clash_won_saruman = 0 \n",
    "tie = 0\n",
    "i=0"
   ]
  },
  {
   "cell_type": "code",
   "execution_count": 19,
   "metadata": {},
   "outputs": [
    {
     "name": "stdout",
     "output_type": "stream",
     "text": [
      "6\n",
      "4\n"
     ]
    }
   ],
   "source": [
    "# Execution of spell clashes\n",
    "for c_gandalf in gandalf: \n",
    "       if c_gandalf > saruman[i]: \n",
    "            clash_won_gandalf += 1\n",
    "       elif c_gandalf < saruman[i]:\n",
    "            clash_won_saruman += 1\n",
    "       else:\n",
    "            tie += 1\n",
    "       i+=1\n",
    "            \n",
    "print(clash_won_gandalf)\n",
    "print(clash_won_saruman)"
   ]
  },
  {
   "cell_type": "code",
   "execution_count": 20,
   "metadata": {},
   "outputs": [
    {
     "name": "stdout",
     "output_type": "stream",
     "text": [
      "Winner: Gandalf\n"
     ]
    }
   ],
   "source": [
    "#We check who has won, do not forget the possibility of a draw.\n",
    "# Print the result based on the winner.\n",
    "\n",
    "if clash_won_gandalf > clash_won_saruman: \n",
    "    print('Winner: Gandalf')\n",
    "elif clash_won_gandalf < clash_won_saruman: \n",
    "    print('Winner: Saruman')\n",
    "else: \n",
    "    print('TIE!! Play again!')"
   ]
  },
  {
   "cell_type": "markdown",
   "metadata": {},
   "source": [
    "## Goals\n",
    "\n",
    "1. Treatment of lists\n",
    "2. Use of **for loop**\n",
    "3. Use of conditional **if-elif-else**\n",
    "4. Use of the functions **range(), len()**\n",
    "5. Print"
   ]
  },
  {
   "cell_type": "markdown",
   "metadata": {},
   "source": [
    "## Bonus\n",
    "\n",
    "1. Spells now have a name and there is a dictionary that relates that name to a power.\n",
    "2. A sorcerer wins if he succeeds in winning 3 spell clashes in a row.\n",
    "3. Average of each of the spell lists.\n",
    "4. Standard deviation of each of the spell lists.\n",
    "\n",
    "```\n",
    "POWER = {\n",
    "    'Fireball': 50, \n",
    "    'Lightning bolt': 40, \n",
    "    'Magic arrow': 10, \n",
    "    'Black Tentacles': 25, \n",
    "    'Contagion': 45\n",
    "}\n",
    "\n",
    "gandalf = ['Fireball', 'Lightning bolt', 'Lightning bolt', 'Magic arrow', 'Fireball', \n",
    "           'Magic arrow', 'Lightning bolt', 'Fireball', 'Fireball', 'Fireball']\n",
    "saruman = ['Contagion', 'Contagion', 'Black Tentacles', 'Fireball', 'Black Tentacles', \n",
    "           'Lightning bolt', 'Magic arrow', 'Contagion', 'Magic arrow', 'Magic arrow']\n",
    "```\n",
    "\n",
    "Good luck!"
   ]
  },
  {
   "cell_type": "code",
   "execution_count": 2,
   "metadata": {},
   "outputs": [],
   "source": [
    "# 1. Spells now have a name and there is a dictionary that relates that name to a power.\n",
    "# variables\n",
    "\n",
    "POWER = {\n",
    "    'Fireball': 50, \n",
    "    'Lightning bolt': 40, \n",
    "    'Magic arrow': 10, \n",
    "    'Black Tentacles': 25, \n",
    "    'Contagion': 45\n",
    "}\n",
    "\n",
    "gandalf = ['Fireball', 'Lightning bolt', 'Lightning bolt', 'Magic arrow', 'Fireball', \n",
    "           'Magic arrow', 'Lightning bolt', 'Fireball', 'Magic arrow', 'Fireball']\n",
    "saruman = ['Contagion', 'Contagion', 'Black Tentacles', 'Fireball', 'Black Tentacles', \n",
    "           'Lightning bolt', 'Magic arrow', 'Contagion', 'Magic arrow', 'Magic arrow']"
   ]
  },
  {
   "cell_type": "code",
   "execution_count": 3,
   "metadata": {},
   "outputs": [
    {
     "name": "stdout",
     "output_type": "stream",
     "text": [
      "[50, 40, 40, 10, 50, 10, 40, 50, 10, 50]\n",
      "[45, 45, 25, 50, 25, 40, 10, 45, 10, 10]\n"
     ]
    },
    {
     "data": {
      "text/plain": [
       "'\\ngandalf_num= [50,50,10,50,50,50,50]\\nsaruman_num= [10,50,10,100,100,100,6]\\n'"
      ]
     },
     "execution_count": 3,
     "metadata": {},
     "output_type": "execute_result"
    }
   ],
   "source": [
    "# Assign spell power lists to variables\n",
    "\n",
    "gandalf_num = []\n",
    "saruman_num = []\n",
    "\n",
    "for i in gandalf: \n",
    "   gandalf_num.append(POWER[i])\n",
    "print(gandalf_num)\n",
    "\n",
    "for j in saruman: \n",
    "    saruman_num.append(POWER[j])\n",
    "\n",
    "print(saruman_num)\n",
    "\n",
    "\"\"\"\n",
    "gandalf_num= [50,50,10,50,50,50,50]\n",
    "saruman_num= [10,50,10,100,100,100,6]\n",
    "\"\"\""
   ]
  },
  {
   "cell_type": "code",
   "execution_count": 4,
   "metadata": {},
   "outputs": [
    {
     "name": "stdout",
     "output_type": "stream",
     "text": [
      "1\n",
      "0\n",
      "TIE!! Play again! (:\n"
     ]
    }
   ],
   "source": [
    "# 2. A sorcerer wins if he succeeds in winning 3 spell clashes in a row.\n",
    "# Execution of spell clashes\n",
    "# check for 3 wins in a row\n",
    "consec_won_gandalf = 0\n",
    "consec_won_saruman = 0 \n",
    "tie = 0\n",
    "n= 0\n",
    "for c_gandalf in gandalf_num: \n",
    "       if c_gandalf > saruman_num[n]: \n",
    "            consec_won_gandalf += 1\n",
    "            consec_won_saruman = 0 \n",
    "       elif c_gandalf < saruman_num[n]:\n",
    "            consec_won_gandalf = 0 \n",
    "            consec_won_saruman += 1\n",
    "            \n",
    "       elif c_gandalf == saruman_num[n]:\n",
    "            tie += 1\n",
    "            consec_won_gandalf = 0\n",
    "            consec_won_saruman = 0\n",
    "            \n",
    "       if consec_won_gandalf == 3: \n",
    "            break\n",
    "       elif consec_won_saruman == 3: \n",
    "            break\n",
    "       n += 1\n",
    "            \n",
    "print(consec_won_gandalf)\n",
    "print(consec_won_saruman)\n",
    "\n",
    "\n",
    "# check the winner\n",
    "#We check who has won, do not forget the possibility of a draw. \n",
    "\n",
    "if consec_won_gandalf >= 3: \n",
    "   print('Winner: Gandalf')\n",
    "\n",
    "elif consec_won_saruman >= 3: \n",
    "   print('Winner: Saruman')\n",
    "    \n",
    "else: \n",
    "   print('TIE!! Play again! (:')\n"
   ]
  },
  {
   "cell_type": "code",
   "execution_count": 5,
   "metadata": {},
   "outputs": [
    {
     "name": "stdout",
     "output_type": "stream",
     "text": [
      "The average of Gandalf s spell list is 35.0\n",
      "The average of Saruman s spell list is 30.5\n"
     ]
    }
   ],
   "source": [
    "# 3. Average of each of the spell lists.\n",
    "avg_advance_gandalf = sum(gandalf_num)/len(gandalf_num)\n",
    "avg_advance_saruman = sum(saruman_num)/len(saruman_num)\n",
    "print('The average of Gandalf s spell list is', avg_advance_gandalf)\n",
    "print('The average of Saruman s spell list is', avg_advance_saruman)\n"
   ]
  },
  {
   "cell_type": "code",
   "execution_count": 6,
   "metadata": {},
   "outputs": [
    {
     "name": "stdout",
     "output_type": "stream",
     "text": [
      "The standard deviation (Gandalf) is: 17.795130420052185 points.\n",
      "The standard deviation (Saruman) is: 16.40629960309962 points.\n"
     ]
    }
   ],
   "source": [
    "# 4. Standard deviation of each of the spell lists.\n",
    "num_list_gandalf = []\n",
    "\n",
    "num_list_saruman = []\n",
    "\n",
    "for i in gandalf_num: \n",
    "    value = (i-avg_advance_gandalf)**2\n",
    "    num_list_gandalf.append(value)\n",
    "num = sum(num_list_gandalf)\n",
    "\n",
    "den = len(num_list_gandalf) - 1\n",
    "\n",
    "std_dev_gandalf = (num/den)**0.5\n",
    "\n",
    "print('The standard deviation (Gandalf) is:', std_dev_gandalf, 'points.')\n",
    "\n",
    "\n",
    "for i in saruman_num: \n",
    "    value = (i-avg_advance_saruman)**2\n",
    "    num_list_saruman.append(value)\n",
    "num = sum(num_list_saruman)\n",
    "\n",
    "den = len(num_list_saruman) - 1\n",
    "\n",
    "std_dev_saruman = (num/den)**0.5\n",
    "\n",
    "print('The standard deviation (Saruman) is:', std_dev_saruman, 'points.')"
   ]
  },
  {
   "cell_type": "code",
   "execution_count": null,
   "metadata": {},
   "outputs": [],
   "source": []
  }
 ],
 "metadata": {
  "kernelspec": {
   "display_name": "Python 3",
   "language": "python",
   "name": "python3"
  },
  "language_info": {
   "codemirror_mode": {
    "name": "ipython",
    "version": 3
   },
   "file_extension": ".py",
   "mimetype": "text/x-python",
   "name": "python",
   "nbconvert_exporter": "python",
   "pygments_lexer": "ipython3",
   "version": "3.7.3"
  }
 },
 "nbformat": 4,
 "nbformat_minor": 2
}
