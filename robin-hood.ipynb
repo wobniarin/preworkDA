{
 "cells": [
  {
   "cell_type": "markdown",
   "metadata": {},
   "source": [
    "# Robin Hood:\n",
    "We are in a competition to win the archery contest in Sherwood. With our bow and arrows we shoot on a target and try to hit as close as possible to the center.\n",
    "\n",
    "The center of the target is represented by the values (0, 0) on the coordinate axes.\n",
    "\n",
    "![](images/arrows.jpg)\n",
    "\n",
    "## Goals:\n",
    "* data structures: lists, sets, tuples\n",
    "* logical operators: if-elif-else\n",
    "* loop: while/for\n",
    "* minimum (optional sorting)\n",
    "\n",
    "## Description:\n",
    "In the 2-dimensional space, a point can be defined by a pair of values that correspond to the horizontal coordinate (x) and the vertical coordinate (y). The space can be divided into 4 zones (quadrants): Q1, Q2, Q3, Q4. Whose single point of union is the point (0, 0).\n",
    "\n",
    "If a point is in Q1 both its x coordinate and the y are positive. I leave a link to wikipedia to familiarize yourself with these quadrants.\n",
    "\n",
    "https://en.wikipedia.org/wiki/Cartesian_coordinate_system\n",
    "\n",
    "https://en.wikipedia.org/wiki/Euclidean_distance\n",
    "\n",
    "## Shots\n",
    "```\n",
    "points = [(4, 5), (-0, 2), (4, 7), (1, -3), (3, -2), (4, 5),\n",
    "          (3, 2), (5, 7), (-5, 7), (2, 2), (-4, 5), (0, -2),\n",
    "          (-4, 7), (-1, 3), (-3, 2), (-4, -5), (-3, 2),\n",
    "          (5, 7), (5, 7), (2, 2), (9, 9), (-8, -9)]\n",
    "```\n",
    "\n",
    "## Tasks\n",
    "1. Robin Hood is famous for hitting an arrow with another arrow. Did you get it?\n",
    "2. Calculate how many arrows have fallen in each quadrant.\n",
    "3. Find the point closest to the center. Calculate its distance to the center. \n",
    "4. If the target has a radius of 9, calculate the number of arrows that must be picked up in the forest."
   ]
  },
  {
   "cell_type": "code",
   "execution_count": 78,
   "metadata": {},
   "outputs": [
    {
     "name": "stdout",
     "output_type": "stream",
     "text": [
      "[(4, 5), (0, 2), (4, 7), (1, -3), (3, -2), (4, 5), (3, 2), (5, 7), (-5, 7), (2, 2), (-4, 5), (0, -2), (-4, 7), (-1, 3), (-3, 2), (-4, -5), (-3, 2), (5, 7), (5, 7), (2, 2), (9, 9), (-8, -9)]\n"
     ]
    }
   ],
   "source": [
    "# Variables\n",
    "\n",
    "points = [(4, 5), (-0, 2), (4, 7), (1, -3), (3, -2), (4, 5),\n",
    "          (3, 2), (5, 7), (-5, 7), (2, 2), (-4, 5), (0, -2),\n",
    "          (-4, 7), (-1, 3), (-3, 2), (-4, -5), (-3, 2),\n",
    "          (5, 7), (5, 7), (2, 2), (9, 9), (-8, -9)]\n"
   ]
  },
  {
   "cell_type": "code",
   "execution_count": 40,
   "metadata": {},
   "outputs": [
    {
     "name": "stdout",
     "output_type": "stream",
     "text": [
      "Robin Hood!\n",
      "1\n"
     ]
    }
   ],
   "source": [
    "# 1. Robin Hood is famous for hitting an arrow with another arrow. Did you get it?\n",
    "\n",
    "# I consider that a robin hood is done when the right after arrow hits the same place as the one before. \n",
    "\n",
    "for i in range(len(points)-1): \n",
    "    \n",
    "    current_point = points[i]\n",
    "    \n",
    "    robin_hood = 0\n",
    "    \n",
    "    if current_point == points[i+1]: \n",
    "        robin_hood +=1\n",
    "    else:\n",
    "        i += 1\n",
    "    if robin_hood > 0: \n",
    "        print (\"Robin Hood!\")\n",
    "        print(robin_hood)\n"
   ]
  },
  {
   "cell_type": "code",
   "execution_count": 75,
   "metadata": {},
   "outputs": [
    {
     "name": "stdout",
     "output_type": "stream",
     "text": [
      "Number of arrows in Q1: 11\n",
      "Number of arrows in Q2: 6\n",
      "Number of arrows in Q3: 2\n",
      "Number of arrows in Q4: 2\n"
     ]
    }
   ],
   "source": [
    "# 2. Calculate how many arrows have fallen in each quadrant.\n",
    "Q1 = 0\n",
    "Q2 = 0\n",
    "Q3 = 0\n",
    "Q4 = 0 \n",
    "\n",
    "#I consider that (0,0) belongs to Q1\n",
    "for i in range(len(points)): \n",
    "    if (points[i][0] >= 0 and points[i][1]>=0):\n",
    "        Q1 +=1\n",
    "        i += 1\n",
    "    elif (points[i][0] < 0 and points[i][1]>0): \n",
    "        Q2 +=1\n",
    "        i += 1\n",
    "    elif (points[i][0] < 0 and points[i][1]<0): \n",
    "        Q3 +=1\n",
    "        i += 1\n",
    "    elif (points[i][0] > 0 and points[i][1]<0): \n",
    "        Q4 +=1\n",
    "        i += 1\n",
    "    \n",
    "print (\"Number of arrows in Q1:\", Q1)\n",
    "\n",
    "print (\"Number of arrows in Q2:\", Q2)\n",
    "\n",
    "print (\"Number of arrows in Q3:\", Q3)\n",
    "\n",
    "print (\"Number of arrows in Q4:\", Q4)\n",
    "\n"
   ]
  },
  {
   "cell_type": "code",
   "execution_count": 76,
   "metadata": {},
   "outputs": [
    {
     "name": "stdout",
     "output_type": "stream",
     "text": [
      "[6.4031242374328485, 2.0, 8.06225774829855, 3.1622776601683795, 3.605551275463989, 6.4031242374328485, 3.605551275463989, 8.602325267042627, 8.602325267042627, 2.8284271247461903, 6.4031242374328485, 2.0, 8.06225774829855, 3.1622776601683795, 3.605551275463989, 6.4031242374328485, 3.605551275463989, 8.602325267042627, 8.602325267042627, 2.8284271247461903, 12.727922061357855, 12.041594578792296]\n",
      "The point that is closest to the center is number: 1\n",
      "The distance of this point to the center is: 2.0\n"
     ]
    }
   ],
   "source": [
    "# 3. Find the point closest to the center. Calculate its distance to the center\n",
    "# Defining a function that calculates the distance to the center can help.\n",
    "\n",
    "def eucl_distance(vec1, vec2): \n",
    "    dist_x = vec1[0][0]-vec2[0][0]\n",
    "    dist_y = vec1[0][1]-vec2[0][1]\n",
    "    \n",
    "    euclidean_distance = (dist_x**2 + dist_y**2)**0.5\n",
    "    \n",
    "    return euclidean_distance\n",
    "\n",
    "def eucl_distance2(x1,y1, x2, y2): \n",
    "    dist_x = x1-x2\n",
    "    dist_y = y1-y2\n",
    "    \n",
    "    euclidean_distance = (dist_x**2 + dist_y**2)**0.5\n",
    "    \n",
    "    return euclidean_distance\n",
    "\n",
    "\n",
    "\n",
    "distance_center_arrow = []\n",
    "center = [(0,0)]\n",
    "\"\"\"\n",
    "vec1=[(1,2)]\n",
    "print(vec1[0])\n",
    "print(vec1[0][1])\n",
    "\n",
    "print(eucl_distance(vec1, center))\n",
    "\n",
    "\n",
    "print(points[0])\n",
    "print(points[0][1])\n",
    "print(points[0][0])\n",
    "\"\"\"\n",
    "\n",
    "for i in range(len(points)): \n",
    "    euc_distance = eucl_distance2(center[0][0], center[0][1], points[i][0], points[i][1])\n",
    "    distance_center_arrow.append(euc_distance)\n",
    "    \n",
    "print (distance_center_arrow)\n",
    "\n",
    "print(\"The point that is closest to the center is number:\", distance_center_arrow.index(min(distance_center_arrow)))\n",
    "print(\"The distance of this point to the center is:\", distance_center_arrow[distance_center_arrow.index(min(distance_center_arrow))])"
   ]
  },
  {
   "cell_type": "code",
   "execution_count": 77,
   "metadata": {},
   "outputs": [
    {
     "name": "stdout",
     "output_type": "stream",
     "text": [
      "Number of arrows that should be picked up in the forest: 2\n"
     ]
    }
   ],
   "source": [
    "# 4. If the target has a radius of 9, calculate the number of arrows that \n",
    "# must be picked up in the forest.\n",
    "arrows_forest = 0\n",
    "radius = 9\n",
    "\n",
    "for i in range(len(points)):\n",
    "    if distance_center_arrow[i] > radius: \n",
    "        arrows_forest += 1\n",
    "\n",
    "print (\"Number of arrows that should be picked up in the forest:\", arrows_forest)\n"
   ]
  },
  {
   "cell_type": "code",
   "execution_count": null,
   "metadata": {},
   "outputs": [],
   "source": []
  }
 ],
 "metadata": {
  "kernelspec": {
   "display_name": "Python 3",
   "language": "python",
   "name": "python3"
  },
  "language_info": {
   "codemirror_mode": {
    "name": "ipython",
    "version": 3
   },
   "file_extension": ".py",
   "mimetype": "text/x-python",
   "name": "python",
   "nbconvert_exporter": "python",
   "pygments_lexer": "ipython3",
   "version": "3.7.3"
  }
 },
 "nbformat": 4,
 "nbformat_minor": 2
}
