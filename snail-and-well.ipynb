{
 "cells": [
  {
   "cell_type": "markdown",
   "metadata": {},
   "source": [
    "# Snail and well\n",
    "\n",
    "A snail falls at the bottom of a 125 cm well. Each day the snail rises 30 cm. But at night, while sleeping, slides 20 cm because the walls are wet. How many days does it take to escape from the well?\n",
    "\n",
    "TIP: http://puzzles.nigelcoldwell.co.uk/sixtytwo.htm"
   ]
  },
  {
   "cell_type": "markdown",
   "metadata": {},
   "source": [
    "## Solución"
   ]
  },
  {
   "cell_type": "code",
   "execution_count": 5,
   "metadata": {},
   "outputs": [
    {
     "name": "stdout",
     "output_type": "stream",
     "text": [
      "Days = 13\n"
     ]
    }
   ],
   "source": [
    "# Assign problem data to variables with representative names\n",
    "# well height, daily advance, night retreat, accumulated distance\n",
    "\n",
    "well_height = 125\n",
    "\n",
    "daily_advance = 30 \n",
    "\n",
    "night_retreat = 20 \n",
    "\n",
    "acc_distance = 0\n",
    "\n",
    "# Assign 0 to the variable that represents the solution\n",
    "req_days = 0\n",
    "\n",
    "# Write the code that solves the problem\n",
    "\n",
    "diff = daily_advance - night_retreat\n",
    "\n",
    "while acc_distance < 125 : \n",
    "    acc_distance += diff\n",
    "    req_days +=1\n",
    "\n",
    "# Print the result with print('Days =', days)\n",
    "\n",
    "print('Days =', req_days)"
   ]
  },
  {
   "cell_type": "markdown",
   "metadata": {},
   "source": [
    "## Goals\n",
    "\n",
    "1. Treatment of variables\n",
    "2. Use of loop **while**\n",
    "3. Use of conditional **if-else**\n",
    "4. Print in console"
   ]
  },
  {
   "cell_type": "markdown",
   "metadata": {},
   "source": [
    "## Bonus\n",
    "The distance traveled by the snail is now defined by a list.\n",
    "```\n",
    "advance_cm = [30, 21, 33, 77, 44, 45, 23, 45, 12, 34, 55]\n",
    "```\n",
    "How long does it take to raise the well?\n",
    "\n",
    "What is its maximum displacement in one day? And its minimum?\n",
    "\n",
    "What is its average speed during the day?\n",
    "\n",
    "What is the standard deviation of its displacement during the day?"
   ]
  },
  {
   "cell_type": "code",
   "execution_count": 24,
   "metadata": {},
   "outputs": [
    {
     "name": "stdout",
     "output_type": "stream",
     "text": [
      "Days = 6\n",
      "The maximum displacement in a day is: 77 cm\n",
      "The minimum displacement in a day is: 12 cm\n",
      "The average progess is: 38.09090909090909 cm a day\n",
      "The standard deviation is: 17.996969441850734 cm\n"
     ]
    }
   ],
   "source": [
    "# Assign problem data to variables with representative names\n",
    "# well height, daily advance, night retreat, accumulated distance\n",
    "well_height = 125\n",
    "\n",
    "daily_advance = 30 \n",
    "\n",
    "night_retreat = 20 \n",
    "\n",
    "acc_distance = 0\n",
    "\n",
    "advance_cm = [30, 21, 33, 77, 44, 45, 23, 45, 12, 34, 55]\n",
    "\n",
    "# Assign 0 to the variable that represents the solution\n",
    "req_days = 0\n",
    "i = 0\n",
    "# Write the code that solves the problem\n",
    "\n",
    "while acc_distance < 125 : \n",
    "    req_days +=1\n",
    "    acc_distance = acc_distance + advance_cm[i] - night_retreat\n",
    "    i += 1\n",
    "\n",
    "# Print the result with print('Days =', days)\n",
    "print('Days =', req_days)\n",
    "\n",
    "# What is its maximum displacement in a day? And its minimum?\n",
    "\n",
    "max_displacement = max(advance_cm)\n",
    "print('The maximum displacement in a day is:', max_displacement, 'cm')\n",
    "\n",
    "min_displacement = min(advance_cm)\n",
    "print('The minimum displacement in a day is:', min_displacement, 'cm')\n",
    "\n",
    "\n",
    "# What is its average progress?\n",
    "\n",
    "avg_advance = sum(advance_cm)/len(advance_cm)\n",
    "print('The average progess is:', avg_advance, 'cm a day')\n",
    "\n",
    "# What is the standard deviation of your displacement during the day?\n",
    "num_list = []\n",
    "\n",
    "for i in advance_cm:\n",
    "    value = (i-avg_advance)**2\n",
    "    num_list.append(value)\n",
    "\n",
    "num= sum(num_list)\n",
    "\n",
    "den = len(advance_cm)-1\n",
    "std_dev = (num/den)**0.5\n",
    "print('The standard deviation is:', std_dev, 'cm')"
   ]
  },
  {
   "cell_type": "code",
   "execution_count": null,
   "metadata": {},
   "outputs": [],
   "source": []
  }
 ],
 "metadata": {
  "kernelspec": {
   "display_name": "Python 3",
   "language": "python",
   "name": "python3"
  },
  "language_info": {
   "codemirror_mode": {
    "name": "ipython",
    "version": 3
   },
   "file_extension": ".py",
   "mimetype": "text/x-python",
   "name": "python",
   "nbconvert_exporter": "python",
   "pygments_lexer": "ipython3",
   "version": "3.7.3"
  }
 },
 "nbformat": 4,
 "nbformat_minor": 2
}
