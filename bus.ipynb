{
 "cells": [
  {
   "cell_type": "markdown",
   "metadata": {},
   "source": [
    "# Bus\n",
    "\n",
    "This bus has a passenger entry and exit control system to monitor the number of occupants it carries and thus detect when there is too high a capacity.\n",
    "\n",
    "At each stop the entry and exit of passengers is represented by a tuple consisting of two integer numbers.\n",
    "```\n",
    "bus_stop = (in, out)\n",
    "```\n",
    "The succession of stops is represented by a list of these tuples.\n",
    "```\n",
    "stops = [(in1, out1), (in2, out2), (in3, out3), (in4, out4)]\n",
    "```\n",
    "\n",
    "## Goals:\n",
    "* lists, tuples\n",
    "* while/for loops\n",
    "* minimum, maximum, length\n",
    "* average, standard deviation\n",
    "\n",
    "## Tasks\n",
    "1. Calculate the number of stops.\n",
    "2. Assign to a variable a list whose elements are the number of passengers at each stop (in-out),\n",
    "3. Find the maximum occupation of the bus.\n",
    "4. Calculate the average occupation. And the standard deviation.\n"
   ]
  },
  {
   "cell_type": "code",
   "execution_count": 2,
   "metadata": {},
   "outputs": [],
   "source": [
    "# variables\n",
    "\n",
    "stops = [(\"in1\",\"out1\"), (\"in2\",\"out2\"), (\"in3\",\"out3\"), (\"in4\",\"out4\") ]\n",
    "\n",
    "\n"
   ]
  },
  {
   "cell_type": "code",
   "execution_count": 3,
   "metadata": {},
   "outputs": [
    {
     "name": "stdout",
     "output_type": "stream",
     "text": [
      "4\n"
     ]
    }
   ],
   "source": [
    "# 1. Calculate the number of stops.\n",
    "\n",
    "num_stops = len(stops)\n",
    "\n",
    "print(num_stops)"
   ]
  },
  {
   "cell_type": "code",
   "execution_count": 11,
   "metadata": {},
   "outputs": [
    {
     "name": "stdout",
     "output_type": "stream",
     "text": [
      "[8, 10, 12, 4]\n"
     ]
    }
   ],
   "source": [
    "# 2. Assign a variable a list whose elements are the number of passengers in each stop: \n",
    "# Each item depends on the previous item in the list + in - out.\n",
    "\n",
    "stops_int = [(10,2), (3,1),(2,0),(0,8)]\n",
    "\n",
    "prev_passenger = 0\n",
    "pass_value = 0\n",
    "passengers_stops = []\n",
    "\n",
    "for i in range(len(stops_int)):\n",
    "    \n",
    "    pass_value = pass_value + stops_int[i][0] - stops_int[i][1]\n",
    "    passengers_stops.append(pass_value)\n",
    "    \n",
    "\n",
    "print(passengers_stops)"
   ]
  },
  {
   "cell_type": "code",
   "execution_count": 12,
   "metadata": {},
   "outputs": [
    {
     "name": "stdout",
     "output_type": "stream",
     "text": [
      "The maximum occupation of the bus is: 12\n"
     ]
    }
   ],
   "source": [
    "# 3. Find the maximum occupation of the bus.\n",
    "\n",
    "print(\"The maximum occupation of the bus is:\", max(passengers_stops))"
   ]
  },
  {
   "cell_type": "code",
   "execution_count": 22,
   "metadata": {},
   "outputs": [
    {
     "name": "stdout",
     "output_type": "stream",
     "text": [
      "The average value is: 8.5\n",
      "The standard deviation is: 3.415650255319866\n"
     ]
    }
   ],
   "source": [
    "# 4. Calculate the average occupation. And the standard deviation.\n",
    "\n",
    "\n",
    "def meanfunction (list_num):\n",
    "    mean = sum(list_num)/len(list_num)\n",
    "    print (\"The average value is:\", mean)\n",
    "    return mean \n",
    "\n",
    "mean_value = meanfunction(passengers_stops)\n",
    "\n",
    "def standard_deviation(list_num, mean_value):\n",
    "   \n",
    "    values_list = []\n",
    "    \n",
    "    for i in list_num: \n",
    "        value = (i-mean_value)**2\n",
    "        values_list.append(value)\n",
    "   \n",
    "    num = sum(values_list)\n",
    "\n",
    "    den = len(values_list) - 1\n",
    "\n",
    "    std_dev = (num/den)**0.5\n",
    "\n",
    "    print('The standard deviation is:', std_dev)\n",
    "\n",
    "    return std_dev\n",
    "\n",
    "std_dev_passenger = standard_deviation(passengers_stops, mean_value)"
   ]
  },
  {
   "cell_type": "code",
   "execution_count": null,
   "metadata": {},
   "outputs": [],
   "source": []
  }
 ],
 "metadata": {
  "kernelspec": {
   "display_name": "Python 3",
   "language": "python",
   "name": "python3"
  },
  "language_info": {
   "codemirror_mode": {
    "name": "ipython",
    "version": 3
   },
   "file_extension": ".py",
   "mimetype": "text/x-python",
   "name": "python",
   "nbconvert_exporter": "python",
   "pygments_lexer": "ipython3",
   "version": "3.7.3"
  }
 },
 "nbformat": 4,
 "nbformat_minor": 2
}
